{
 "cells": [
  {
   "cell_type": "markdown",
   "metadata": {},
   "source": [
    "## Here's a simple list:"
   ]
  },
  {
   "cell_type": "code",
   "execution_count": 1,
   "metadata": {},
   "outputs": [],
   "source": [
    "cats = ['Maine Coon', 'Tabby', 'Siamese', 'Garfield', 'Sylvester']"
   ]
  },
  {
   "cell_type": "code",
   "execution_count": 2,
   "metadata": {},
   "outputs": [
    {
     "data": {
      "text/plain": [
       "['Maine Coon', 'Tabby', 'Siamese', 'Garfield', 'Sylvester']"
      ]
     },
     "execution_count": 2,
     "metadata": {},
     "output_type": "execute_result"
    }
   ],
   "source": [
    "cats"
   ]
  },
  {
   "cell_type": "markdown",
   "metadata": {},
   "source": [
    "## Iterate through the list and print each cat."
   ]
  },
  {
   "cell_type": "code",
   "execution_count": 5,
   "metadata": {},
   "outputs": [
    {
     "name": "stdout",
     "output_type": "stream",
     "text": [
      "Maine Coon\n",
      "Tabby\n",
      "Siamese\n",
      "Garfield\n",
      "Sylvester\n"
     ]
    }
   ],
   "source": [
    "cats = [\"Maine Coon\", \"Tabby\", \"Siamese\", \"Garfield\", \"Sylvester\"]\n",
    "\n",
    "for cat in cats:\n",
    "    print(cat)# Your code here"
   ]
  },
  {
   "cell_type": "markdown",
   "metadata": {},
   "source": [
    "## Create a new list cat_jrs by appending ‘Jr.’ to each of the cats names."
   ]
  },
  {
   "cell_type": "code",
   "execution_count": 1,
   "metadata": {},
   "outputs": [
    {
     "name": "stdout",
     "output_type": "stream",
     "text": [
      "Maine CoonJr\n",
      "TabbyJr\n",
      "SiameseJr\n",
      "GarfieldJr\n",
      "SylvesterJr\n"
     ]
    }
   ],
   "source": [
    "cats = [\"Maine Coon\", \"Tabby\", \"Siamese\", \"Garfield\", \"Sylvester\"]\n",
    "\n",
    "for cat in cats:\n",
    "    print(cat + \"Jr\")\n",
    "    \n",
    "    \n",
    "cat_jrs = []\n",
    "for cat in cats:\n",
    "    jrCat = cat + \"Jr\"\n",
    "    cat_jrs.append# Your code here"
   ]
  },
  {
   "cell_type": "markdown",
   "metadata": {},
   "source": [
    "## Sort the list in alphabetical order."
   ]
  },
  {
   "cell_type": "code",
   "execution_count": 5,
   "metadata": {},
   "outputs": [
    {
     "data": {
      "text/plain": [
       "['Garfield', 'Maine Coon', 'Siamese', 'Sylvester', 'Tabby']"
      ]
     },
     "execution_count": 5,
     "metadata": {},
     "output_type": "execute_result"
    }
   ],
   "source": [
    "cats = [\"Maine Coon\", \"Tabby\", \"Siamese\", \"Garfield\", \"Sylvester\"]\n",
    "cats.sort()\n",
    "cats# Your code here"
   ]
  },
  {
   "cell_type": "markdown",
   "metadata": {},
   "source": [
    "# Sort the list in reverse alphabetical order"
   ]
  },
  {
   "cell_type": "code",
   "execution_count": 4,
   "metadata": {},
   "outputs": [
    {
     "data": {
      "text/plain": [
       "['Sylvester', 'Garfield', 'Siamese', 'Tabby', 'Maine Coon']"
      ]
     },
     "execution_count": 4,
     "metadata": {},
     "output_type": "execute_result"
    }
   ],
   "source": [
    "cats = [\"Maine Coon\", \"Tabby\", \"Siamese\", \"Garfield\", \"Sylvester\"]\n",
    "cats.reverse()\n",
    "cats# Your code here"
   ]
  },
  {
   "cell_type": "markdown",
   "metadata": {},
   "source": [
    "## Look up a new string or list method and explain how it works."
   ]
  },
  {
   "cell_type": "code",
   "execution_count": 3,
   "metadata": {},
   "outputs": [],
   "source": [
    "list.index # Returns index value Your code here\n",
    "str.join # Return a string which is the concatenation of the strings in the iterable"
   ]
  },
  {
   "cell_type": "markdown",
   "metadata": {},
   "source": [
    "# Extension: Sort the list by the 3rd letter of each name.\n",
    "Hint: look at the docstring's optional parameter, `key=`.   \n",
    "You can then define a special function called a *lambda function* on the fly like this:  \n",
    "`lambda thing: thing*-1` or `lambda x: operation(x)`\n",
    "\n",
    "Like a for loop you can create any variable name after calling `lambda`.  \n",
    "After calling lambda and a variable name, you then always use a colon `:`.  \n",
    "To the right of the colon is whatever you want your function to do with your variable.\n",
    "\n",
    "More completely:"
   ]
  },
  {
   "cell_type": "code",
   "execution_count": 8,
   "metadata": {},
   "outputs": [
    {
     "data": {
      "text/plain": [
       "[3, 5, 7, 17, 82]"
      ]
     },
     "execution_count": 8,
     "metadata": {},
     "output_type": "execute_result"
    }
   ],
   "source": [
    "numbers = [5,3,7,82, 17]\n",
    "numbers.sort()\n",
    "numbers"
   ]
  },
  {
   "cell_type": "code",
   "execution_count": 9,
   "metadata": {},
   "outputs": [
    {
     "data": {
      "text/plain": [
       "[82, 17, 7, 5, 3]"
      ]
     },
     "execution_count": 9,
     "metadata": {},
     "output_type": "execute_result"
    }
   ],
   "source": [
    "numbers.sort(key=lambda x: x*-1) #Effectively sorts in descending order by taking the inverse\n",
    "numbers"
   ]
  },
  {
   "cell_type": "code",
   "execution_count": 13,
   "metadata": {},
   "outputs": [
    {
     "name": "stdout",
     "output_type": "stream",
     "text": [
      "[7, 5, 17, 3, 82]\n"
     ]
    }
   ],
   "source": [
    "numbers = [5,3,7,82, 17]\n",
    "numbers.sort(key=lambda num: abs(11-num)) #Try to explain what this does.\n",
    "print(numbers)"
   ]
  },
  {
   "cell_type": "code",
   "execution_count": 17,
   "metadata": {},
   "outputs": [
    {
     "ename": "SyntaxError",
     "evalue": "invalid syntax (<ipython-input-17-556438a8a0f4>, line 1)",
     "output_type": "error",
     "traceback": [
      "\u001b[0;36m  File \u001b[0;32m\"<ipython-input-17-556438a8a0f4>\"\u001b[0;36m, line \u001b[0;32m1\u001b[0m\n\u001b[0;31m    lambda? # Your code here\u001b[0m\n\u001b[0m          ^\u001b[0m\n\u001b[0;31mSyntaxError\u001b[0m\u001b[0;31m:\u001b[0m invalid syntax\n"
     ]
    }
   ],
   "source": [
    "lambda? # Your code here"
   ]
  },
  {
   "cell_type": "code",
   "execution_count": null,
   "metadata": {},
   "outputs": [],
   "source": []
  }
 ],
 "metadata": {
  "kernelspec": {
   "display_name": "Python 3",
   "language": "python",
   "name": "python3"
  },
  "language_info": {
   "codemirror_mode": {
    "name": "ipython",
    "version": 3
   },
   "file_extension": ".py",
   "mimetype": "text/x-python",
   "name": "python",
   "nbconvert_exporter": "python",
   "pygments_lexer": "ipython3",
   "version": "3.6.4"
  }
 },
 "nbformat": 4,
 "nbformat_minor": 2
}
